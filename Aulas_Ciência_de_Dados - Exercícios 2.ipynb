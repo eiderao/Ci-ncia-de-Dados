{
  "nbformat": 4,
  "nbformat_minor": 0,
  "metadata": {
    "colab": {
      "name": "Aulas Ciência de Dados.ipynb",
      "provenance": [],
      "toc_visible": true,
      "collapsed_sections": []
    },
    "kernelspec": {
      "name": "python3",
      "display_name": "Python 3"
    },
    "language_info": {
      "name": "python"
    }
  },
  "cells": [
    {
      "cell_type": "markdown",
      "source": [
        "# Módulo 1 - Aula 4"
      ],
      "metadata": {
        "id": "KZ8vDTfMDAAE"
      }
    },
    {
      "cell_type": "markdown",
      "source": [],
      "metadata": {
        "id": "zy6x8NrZEcgJ"
      }
    },
    {
      "cell_type": "code",
      "source": [
        " latlong = '-22.005320;-47.891040'\n",
        " print(latlong)"
      ],
      "metadata": {
        "id": "ynuOVEDrDNa8"
      },
      "execution_count": null,
      "outputs": []
    },
    {
      "cell_type": "code",
      "source": [
        "latlong = '-22.005320;-47.891040'\n",
        "print(latlong)\n",
        "separador = latlong.find(\";\")\n",
        "print('Latitude:' + latlong[0:separador])\n",
        "print('Longitude' + latlong[separador+1:len(latlong)])\n",
        "print(f'Latitude: {latlong[0:separador]} \\nLongitude: {latlong[separador+1:len(latlong)]}')"
      ],
      "metadata": {
        "colab": {
          "base_uri": "https://localhost:8080/"
        },
        "id": "1qnKPVhXEEpT",
        "outputId": "4a4657cd-09e9-4893-9f86-d4c52ea27299"
      },
      "execution_count": null,
      "outputs": [
        {
          "output_type": "stream",
          "name": "stdout",
          "text": [
            "-22.005320;-47.891040\n",
            "Latitude:-22.005320\n",
            "Longitude-47.891040\n",
            "Latitude: -22.005320 \n",
            "Longitude: -47.891040\n"
          ]
        }
      ]
    },
    {
      "cell_type": "markdown",
      "source": [
        "# Exercícios 1° Módulo"
      ],
      "metadata": {
        "id": "33MpFwZNfVgG"
      }
    },
    {
      "cell_type": "markdown",
      "source": [],
      "metadata": {
        "id": "RSp0cmEyj52L"
      }
    },
    {
      "cell_type": "markdown",
      "metadata": {
        "id": "muD1vxozykSC"
      },
      "source": [
        "## 1\\. Google Colab"
      ]
    },
    {
      "cell_type": "markdown",
      "metadata": {
        "id": "ahrFfCuBxJKs"
      },
      "source": [
        "Crie uma célula de código que escreva o texto \"Olá mundo!\", utilize o comando `print`."
      ]
    },
    {
      "cell_type": "code",
      "source": [
        "print(\"Olá, mundo!\")"
      ],
      "metadata": {
        "colab": {
          "base_uri": "https://localhost:8080/"
        },
        "id": "a9O7qQA3jNzB",
        "outputId": "98e41e48-205f-4b4c-f16d-454401eab36c"
      },
      "execution_count": null,
      "outputs": [
        {
          "output_type": "stream",
          "name": "stdout",
          "text": [
            "Olá, mundo!\n"
          ]
        }
      ]
    },
    {
      "cell_type": "markdown",
      "metadata": {
        "id": "KI9zQRT2xa7m"
      },
      "source": [
        "Crie uma célula de texto e adicione uma imagem."
      ]
    },
    {
      "cell_type": "markdown",
      "source": [
        "![51132328_652194071903491_1467711093859368003_n.jpg](data:image/jpeg;base64,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)"
      ],
      "metadata": {
        "id": "YU20Mh0PkvH9"
      }
    },
    {
      "cell_type": "markdown",
      "metadata": {
        "id": "tFYOPLS3xiwe"
      },
      "source": [
        "## 2\\. Números"
      ]
    },
    {
      "cell_type": "markdown",
      "metadata": {
        "id": "O2G9gt7tx2c-"
      },
      "source": [
        "Preencha as células de código para preencher os valores de (A), (B) e (C) na tabela de ticket médio abaixo:\n",
        "\n",
        "<br>\n",
        "\n",
        "| Dia   | Valor Total Vendas | Qtd Total Vendas | Ticket Medio |\n",
        "|-------|--------------------|------------------|--------------|\n",
        "| 19/01 | (A)                | 3                | 320.52       |\n",
        "| 20/01 | 834.47             | (B)              | 119.21       |\n",
        "| 23/01 | 15378.12           | 5                | (C)          |"
      ]
    },
    {
      "cell_type": "code",
      "metadata": {
        "id": "nsrKH9EizNRD",
        "colab": {
          "base_uri": "https://localhost:8080/"
        },
        "outputId": "7039edd3-6452-4771-fd7f-344dd1beb7bf"
      },
      "source": [
        "# (A)\n",
        "A= 320.52*3\n",
        "print('A='+ str(A))"
      ],
      "execution_count": null,
      "outputs": [
        {
          "output_type": "stream",
          "name": "stdout",
          "text": [
            "A=961.56\n"
          ]
        }
      ]
    },
    {
      "cell_type": "code",
      "source": [
        "# (B)\n",
        "B=834.47/119.21\n",
        "print('B=' + str(B))"
      ],
      "metadata": {
        "colab": {
          "base_uri": "https://localhost:8080/"
        },
        "id": "kSrS3vdgmGP_",
        "outputId": "4890efba-725a-49eb-cc1f-e6ae498051d6"
      },
      "execution_count": 17,
      "outputs": [
        {
          "output_type": "stream",
          "name": "stdout",
          "text": [
            "B=7.000000000000001\n"
          ]
        }
      ]
    },
    {
      "cell_type": "code",
      "source": [
        "# (C)\n",
        "C=15378.12/5\n",
        "print('C=' + str(C))"
      ],
      "metadata": {
        "colab": {
          "base_uri": "https://localhost:8080/"
        },
        "outputId": "fbf80943-ac52-4001-9e6b-aa3318607489",
        "id": "NGCp_nw957Ov"
      },
      "execution_count": 19,
      "outputs": [
        {
          "output_type": "stream",
          "name": "stdout",
          "text": [
            "C=3075.6240000000003\n"
          ]
        }
      ]
    },
    {
      "cell_type": "markdown",
      "source": [
        "##  3\\. Strings"
      ],
      "metadata": {
        "id": "QWvHrXn764H4"
      }
    },
    {
      "cell_type": "markdown",
      "source": [
        "Aplique três métodos distintos na string abaixo, você pode conferir alguns métodos neste link:"
      ],
      "metadata": {
        "id": "Ov0txa7m6__r"
      }
    },
    {
      "cell_type": "code",
      "source": [
        "cancao = 'Roda mundo, roda gigante, roda moinho, roda pião.'\n",
        "print(cancao.find('ã'))\n",
        "print(cancao.count(','))\n",
        "print(cancao.replace(',','.',-1))"
      ],
      "metadata": {
        "colab": {
          "base_uri": "https://localhost:8080/"
        },
        "id": "hphMEXTu7PAb",
        "outputId": "3e159a5a-3c66-417f-d1ab-4a5590ba8f10"
      },
      "execution_count": 25,
      "outputs": [
        {
          "output_type": "stream",
          "name": "stdout",
          "text": [
            "46\n",
            "3\n",
            "Roda mundo. roda gigante. roda moinho. roda pião.\n"
          ]
        }
      ]
    },
    {
      "cell_type": "markdown",
      "source": [
        "Extraia da string abaixo o valor da taxa selic na variável selic e o valor do ano na variavel ano. Imprima os valores na tela."
      ],
      "metadata": {
        "id": "3GKLt5WF7UI1"
      }
    },
    {
      "cell_type": "code",
      "source": [
        "noticia = 'Selic vai a 2,75% e supera expectativas; é a primeira alta em 6 anos.'\n",
        "selic=noticia.find('Selic vai a ') + len('Selic vai a ')\n",
        "ano=noticia.find('anos')-2\n",
        "print('Selic: ' + noticia[selic:selic+5])\n",
        "print('Ano: ' + noticia[ano:ano+1])"
      ],
      "metadata": {
        "colab": {
          "base_uri": "https://localhost:8080/"
        },
        "id": "n3eCltec7X-b",
        "outputId": "d9e8e09f-b596-42fd-e2bd-acd3ef9016bb"
      },
      "execution_count": 36,
      "outputs": [
        {
          "output_type": "stream",
          "name": "stdout",
          "text": [
            "Selic: 2,75%\n",
            "Ano: 6\n"
          ]
        }
      ]
    },
    {
      "cell_type": "markdown",
      "metadata": {
        "id": "no8w_Ati01xP"
      },
      "source": [
        "## 4\\. Booleanos"
      ]
    },
    {
      "cell_type": "markdown",
      "metadata": {
        "id": "D_0tC3SC099N"
      },
      "source": [
        "Utilize a tabela da verdade para responder: qual o valor da variável x?"
      ]
    },
    {
      "cell_type": "code",
      "metadata": {
        "id": "XwIEbxf91SpU"
      },
      "source": [
        "a = False\n",
        "b = True\n",
        "\n",
        "x = not a & b\n",
        "print(x)"
      ],
      "execution_count": null,
      "outputs": []
    },
    {
      "cell_type": "markdown",
      "source": [
        "True"
      ],
      "metadata": {
        "id": "VNPjqlvRAhzC"
      }
    },
    {
      "cell_type": "markdown",
      "source": [
        "# Módulo 2"
      ],
      "metadata": {
        "id": "XMOtphOU8Bn_"
      }
    },
    {
      "cell_type": "markdown",
      "source": [
        "## Aula 1 - Listas"
      ],
      "metadata": {
        "id": "Qc86hV6WJ6LK"
      }
    },
    {
      "cell_type": "code",
      "source": [
        "Sw = ['Xiaomi', 'Samsung', 'Mobvoi', 'huawei']\n",
        "print(Sw)\n",
        "print(Sw[0:2])\n",
        "Sw.insert(1, 'Apple')\n",
        "print(Sw)"
      ],
      "metadata": {
        "colab": {
          "base_uri": "https://localhost:8080/"
        },
        "id": "clj4SUEf8YeK",
        "outputId": "5406e638-e762-40a1-eeca-552add99ff90"
      },
      "execution_count": 7,
      "outputs": [
        {
          "output_type": "stream",
          "name": "stdout",
          "text": [
            "['Xiaomi', 'Samsung', 'Mobvoi', 'huawei']\n",
            "['Xiaomi', 'Samsung']\n",
            "['Xiaomi', 'Apple', 'Samsung', 'Mobvoi', 'huawei']\n"
          ]
        }
      ]
    },
    {
      "cell_type": "code",
      "source": [
        "Sw.insert(1, 'Apple')\n",
        "print(Sw)"
      ],
      "metadata": {
        "colab": {
          "base_uri": "https://localhost:8080/"
        },
        "id": "TAboHHYgH1YM",
        "outputId": "afc65824-525c-4577-93fb-79aaf41f5c2c"
      },
      "execution_count": 8,
      "outputs": [
        {
          "output_type": "stream",
          "name": "stdout",
          "text": [
            "['Xiaomi', 'Apple', 'Apple', 'Samsung', 'Mobvoi', 'huawei']\n"
          ]
        }
      ]
    },
    {
      "cell_type": "code",
      "source": [
        "Sw.remove('Apple')"
      ],
      "metadata": {
        "id": "S4iyRLEjH5l_"
      },
      "execution_count": 9,
      "outputs": []
    },
    {
      "cell_type": "code",
      "source": [
        "print(Sw)"
      ],
      "metadata": {
        "colab": {
          "base_uri": "https://localhost:8080/"
        },
        "id": "GY9vjhDjIC7s",
        "outputId": "772e5047-a54c-435d-abd4-da129cf59635"
      },
      "execution_count": 10,
      "outputs": [
        {
          "output_type": "stream",
          "name": "stdout",
          "text": [
            "['Xiaomi', 'Apple', 'Samsung', 'Mobvoi', 'huawei']\n"
          ]
        }
      ]
    },
    {
      "cell_type": "code",
      "source": [
        "Sw.append('Teste')\n",
        "print(Sw)"
      ],
      "metadata": {
        "colab": {
          "base_uri": "https://localhost:8080/"
        },
        "id": "EEitTiEMIGXQ",
        "outputId": "31d5036e-9911-4263-c48b-7ceb86765106"
      },
      "execution_count": 11,
      "outputs": [
        {
          "output_type": "stream",
          "name": "stdout",
          "text": [
            "['Xiaomi', 'Apple', 'Samsung', 'Mobvoi', 'huawei', 'Teste']\n"
          ]
        }
      ]
    },
    {
      "cell_type": "code",
      "source": [
        "Sw.pop(5)\n",
        "print(Sw)"
      ],
      "metadata": {
        "colab": {
          "base_uri": "https://localhost:8080/"
        },
        "id": "R_ARf4v3IQn0",
        "outputId": "64c76b77-bdf3-42b4-f212-384e7a97459c"
      },
      "execution_count": 12,
      "outputs": [
        {
          "output_type": "stream",
          "name": "stdout",
          "text": [
            "['Xiaomi', 'Apple', 'Samsung', 'Mobvoi', 'huawei']\n"
          ]
        }
      ]
    },
    {
      "cell_type": "code",
      "source": [
        "nome='Eider Arantes de Oliveira'\n",
        "carac_nome=list(nome)\n",
        "print(nome)\n",
        "print(carac_nome)\n",
        "print(carac_nome[6:13])"
      ],
      "metadata": {
        "colab": {
          "base_uri": "https://localhost:8080/"
        },
        "id": "_Z5g88lQIr7z",
        "outputId": "3f4ccfc5-3ec5-4024-ade6-c925496c3890"
      },
      "execution_count": 16,
      "outputs": [
        {
          "output_type": "stream",
          "name": "stdout",
          "text": [
            "Eider Arantes de Oliveira\n",
            "['E', 'i', 'd', 'e', 'r', ' ', 'A', 'r', 'a', 'n', 't', 'e', 's', ' ', 'd', 'e', ' ', 'O', 'l', 'i', 'v', 'e', 'i', 'r', 'a']\n",
            "['A', 'r', 'a', 'n', 't', 'e', 's']\n"
          ]
        }
      ]
    },
    {
      "cell_type": "markdown",
      "source": [
        "## Aula 2 - Conjuntos"
      ],
      "metadata": {
        "id": "cwiuElkKKANK"
      }
    },
    {
      "cell_type": "code",
      "source": [
        "cidades_duplicadas=['Manaus','Sinop', 'Manaus']\n",
        "cidades=set(cidades_duplicadas)\n",
        "print(cidades_duplicadas)\n",
        "print(cidades)"
      ],
      "metadata": {
        "colab": {
          "base_uri": "https://localhost:8080/"
        },
        "id": "3EN_wvahKDYW",
        "outputId": "007a4e06-a2ef-4dac-90d2-635343c9f282"
      },
      "execution_count": 22,
      "outputs": [
        {
          "output_type": "stream",
          "name": "stdout",
          "text": [
            "['Manaus', 'Sinop', 'Manaus']\n",
            "{'Sinop', 'Manaus'}\n"
          ]
        }
      ]
    },
    {
      "cell_type": "markdown",
      "source": [
        "## Aula 3 - Dicionários"
      ],
      "metadata": {
        "id": "iueWgDzxQPZT"
      }
    },
    {
      "cell_type": "code",
      "source": [
        "pessoa = {'Pai':{'Nome':'Eider', \n",
        "          'Sobrenome':'Arantes de Oliveira', \n",
        "          'Filhos':{\n",
        "              'Filho1':'Caio', \n",
        "              'Filho2':'Laura',\n",
        "              'Filho3':'Laís'}\n",
        "            },\n",
        "          'Mãe':{'Nome':'Fabiana', \n",
        "          'Sobrenome':'Ferreira de Araújo Oliveira', \n",
        "          'Filhos':{\n",
        "              'Filho1':'Caio', \n",
        "              'Filho2':'Laura',\n",
        "              'Filho3':'Laís'}\n",
        "            }\n",
        "          }\n",
        "print(pessoa)"
      ],
      "metadata": {
        "colab": {
          "base_uri": "https://localhost:8080/"
        },
        "id": "sr36FvAFQUGV",
        "outputId": "c2b5c4fb-3c5a-4071-f82a-58c5a136a93b"
      },
      "execution_count": 36,
      "outputs": [
        {
          "output_type": "stream",
          "name": "stdout",
          "text": [
            "{'Eider': {'Nome': 'Eider', 'Sobrenome': 'Arantes de Oliveira', 'Filhos': {'Filho1': 'Caio', 'Filho2': 'Laura', 'Filho3': 'Laís'}}, 'Fabiana': {'Nome': 'Fabiana', 'Sobrenome': 'Ferreira de Araújo Oliveira', 'Filhos': {'Filho1': 'Caio', 'Filho2': 'Laura', 'Filho3': 'Laís'}}}\n"
          ]
        }
      ]
    },
    {
      "cell_type": "markdown",
      "source": [
        "## Exercícios do Módulo 2"
      ],
      "metadata": {
        "id": "x9VQuKasBpXH"
      }
    },
    {
      "cell_type": "markdown",
      "source": [
        "### Exercício 1 - Listas\n",
        "1. Listas\n",
        "Crie uma lista chamada filmes com o nome dos 10 primeiros filmes mais bem avaliados no\n",
        "site no IMDB. Imprima o resultado. "
      ],
      "metadata": {
        "id": "FhordK8lByJT"
      }
    },
    {
      "cell_type": "code",
      "source": [
        "filmes = ['1. Um Sonho de Liberdade (1994)', '2. O Poderoso Chefão (1972)','3. Batman: O Cavaleiro das Trevas (2008)','4. O Poderoso Chefão II (1974)','\t5. 12 Homens e uma Sentença (1957)','6. A Lista de Schindler (1993)','7. O Senhor dos Anéis: O Retorno do Rei (2003)','8. Pulp Fiction: Tempo de Violência (1994)','9. O Senhor dos Anéis: A Sociedade do Anel (2001)','10. Três Homens em Conflito (1966)']\n",
        "print(filmes)\n"
      ],
      "metadata": {
        "colab": {
          "base_uri": "https://localhost:8080/"
        },
        "id": "tJDwIfR6B24h",
        "outputId": "2bee3a44-c728-418b-fee9-bf6194378c88"
      },
      "execution_count": 7,
      "outputs": [
        {
          "output_type": "stream",
          "name": "stdout",
          "text": [
            "['1. Um Sonho de Liberdade (1994)', '2. O Poderoso Chefão (1972)', '3. Batman: O Cavaleiro das Trevas (2008)', '4. O Poderoso Chefão II (1974)', '\\t5. 12 Homens e uma Sentença (1957)', '6. A Lista de Schindler (1993)', '7. O Senhor dos Anéis: O Retorno do Rei (2003)', '8. Pulp Fiction: Tempo de Violência (1994)', '9. O Senhor dos Anéis: A Sociedade do Anel (2001)', '10. Três Homens em Conflito (1966)']\n"
          ]
        }
      ]
    },
    {
      "cell_type": "markdown",
      "source": [
        "2. Simule a movimentação do ranking. Utilize os métodos insert e pop para trocar a posição\n",
        "do primeiro e do segundo filme da lista. Imprima o resultado."
      ],
      "metadata": {
        "id": "DHRnGX54EOqW"
      }
    },
    {
      "cell_type": "code",
      "source": [
        "filmes_modif = filmes.pop(0)\n",
        "print(filmes_modif)\n",
        "print(filmes)\n",
        "filmes.insert(1, filmes_modif)\n",
        "print(filmes)"
      ],
      "metadata": {
        "colab": {
          "base_uri": "https://localhost:8080/"
        },
        "id": "nNVpW3JuEKCs",
        "outputId": "a0587070-4b13-4679-9a83-2865565318be"
      },
      "execution_count": 8,
      "outputs": [
        {
          "output_type": "stream",
          "name": "stdout",
          "text": [
            "1. Um Sonho de Liberdade (1994)\n",
            "['2. O Poderoso Chefão (1972)', '3. Batman: O Cavaleiro das Trevas (2008)', '4. O Poderoso Chefão II (1974)', '\\t5. 12 Homens e uma Sentença (1957)', '6. A Lista de Schindler (1993)', '7. O Senhor dos Anéis: O Retorno do Rei (2003)', '8. Pulp Fiction: Tempo de Violência (1994)', '9. O Senhor dos Anéis: A Sociedade do Anel (2001)', '10. Três Homens em Conflito (1966)']\n",
            "['2. O Poderoso Chefão (1972)', '1. Um Sonho de Liberdade (1994)', '3. Batman: O Cavaleiro das Trevas (2008)', '4. O Poderoso Chefão II (1974)', '\\t5. 12 Homens e uma Sentença (1957)', '6. A Lista de Schindler (1993)', '7. O Senhor dos Anéis: O Retorno do Rei (2003)', '8. Pulp Fiction: Tempo de Violência (1994)', '9. O Senhor dos Anéis: A Sociedade do Anel (2001)', '10. Três Homens em Conflito (1966)']\n"
          ]
        }
      ]
    },
    {
      "cell_type": "markdown",
      "source": [
        "### Exercício 2 - Conjuntos\n",
        "Aconteceu um erro no seu ranking. Simule a duplicação dos três últimos filmes da lista.\n",
        "Imprima o resultado.\n",
        "Utiliza a conversão set e list para remover os valores duplicados. Imprima o resultado. "
      ],
      "metadata": {
        "id": "f0tdqVvUErEF"
      }
    },
    {
      "cell_type": "code",
      "source": [
        "filmes = ['1. Um Sonho de Liberdade (1994)', '2. O Poderoso Chefão (1972)','3. Batman: O Cavaleiro das Trevas (2008)','4. O Poderoso Chefão II (1974)','5. 12 Homens e uma Sentença (1957)','6. A Lista de Schindler (1993)','7. O Senhor dos Anéis: O Retorno do Rei (2003)','8. Pulp Fiction: Tempo de Violência (1994)','9. O Senhor dos Anéis: A Sociedade do Anel (2001)','10. Três Homens em Conflito (1966)']\n",
        "filmes.insert(len(filmes),filmes[len(filmes)-3])\n",
        "filmes.insert(len(filmes),filmes[len(filmes)-3])\n",
        "filmes.insert(len(filmes),filmes[len(filmes)-3])\n",
        "print(filmes)\n",
        "filmes = list(set(filmes))\n",
        "print(filmes)\n",
        "print(len(filmes))"
      ],
      "metadata": {
        "colab": {
          "base_uri": "https://localhost:8080/"
        },
        "id": "sdNWTsAIEyrI",
        "outputId": "56cc750a-1ced-4408-fe3e-8efdf7780767"
      },
      "execution_count": 18,
      "outputs": [
        {
          "output_type": "stream",
          "name": "stdout",
          "text": [
            "['1. Um Sonho de Liberdade (1994)', '2. O Poderoso Chefão (1972)', '3. Batman: O Cavaleiro das Trevas (2008)', '4. O Poderoso Chefão II (1974)', '5. 12 Homens e uma Sentença (1957)', '6. A Lista de Schindler (1993)', '7. O Senhor dos Anéis: O Retorno do Rei (2003)', '8. Pulp Fiction: Tempo de Violência (1994)', '9. O Senhor dos Anéis: A Sociedade do Anel (2001)', '10. Três Homens em Conflito (1966)', '8. Pulp Fiction: Tempo de Violência (1994)', '9. O Senhor dos Anéis: A Sociedade do Anel (2001)', '10. Três Homens em Conflito (1966)']\n",
            "['1. Um Sonho de Liberdade (1994)', '5. 12 Homens e uma Sentença (1957)', '10. Três Homens em Conflito (1966)', '3. Batman: O Cavaleiro das Trevas (2008)', '2. O Poderoso Chefão (1972)', '9. O Senhor dos Anéis: A Sociedade do Anel (2001)', '4. O Poderoso Chefão II (1974)', '8. Pulp Fiction: Tempo de Violência (1994)', '7. O Senhor dos Anéis: O Retorno do Rei (2003)', '6. A Lista de Schindler (1993)']\n",
            "10\n"
          ]
        }
      ]
    },
    {
      "cell_type": "markdown",
      "source": [
        "### Exercício 3 - Dicionários\n",
        "Repita os exercícios da parte 1 (listas). Os elementos da lista filmes devem ser dicionários\n",
        "no seguinte formato: {'nome': <nome-do-filme>, 'ano': <ano do filme>},\n",
        "'sinopse': <sinopse do filme>}"
      ],
      "metadata": {
        "id": "OKWwsdTQIf9p"
      }
    },
    {
      "cell_type": "code",
      "source": [
        "filmes = {'1. Um Sonho de Liberdade': {'Ano': '1994', 'Sinopse':'Dois homens presos se reúnem ao longo de vários anos, encontrando consolo e eventual redenção através de atos de decência comum.'},\n",
        "          '2. O Poderoso Chefão': {'Ano': '1972', 'Sinopse':'O patriarca idoso de uma dinastia do crime organizado transfere o controle de seu império clandestino para seu filho relutante.'},\n",
        "          '3. Batman: O Cavaleiro das Trevas': {'Ano':'2008', 'Sinopse':'Quando a ameaça conhecida como O Coringa surge de seu passado, causa estragos e caos nas pessoas de Gotham. O Cavaleiro das Trevas deve aceitar um dos maiores testes para combater a injustiça.'},\n",
        "          '4. O Poderoso Chefão II':{'Ano':'1974', 'Sinopse': 'Em 1950, Michael Corleone, agora à frente da família, tenta expandir o negócio do crime a Las Vegas, Los Angeles e Cuba. Paralelamente, é revelada a história de Vito Corleone, e de como saiu da Sicília e chegou a Nova Iorque.'},\n",
        "          '5. 12 Homens e uma Sentença':{'Ano':'1957','Sinopse': 'Um jurado que se aposenta tenta evitar um erro judicial forçando seus colegas a reconsiderarem as evidências.'},\n",
        "          '6. A Lista de Schindler':{'Ano':'1993','Sinopse':'Depois de testemunhar a perseguição dos judaicos na Polônia ocupada pelos alemães durante a Segunda Guerra Mundial, o industrial Oskar Schindler se começa a preocupar com sua força de trabalho judaica.'},\n",
        "          '7. O Senhor dos Anéis, O Retorno do Rei': {'Ano':'2003','Sinopse':'Gandalf e Aragorn lideram o Mundo dos Homens contra o exército de Sauron para desviar o olhar de Frodo e Sam quando eles se aproximam á Montanha da Perdição com o Um Anel.'},\n",
        "          '8. Pulp Fiction: Tempo de Violência':{'Ano': '1994', 'Sinopse':'As vidas de dois assassinos da máfia, um boxeador, um gângster e sua esposa, e um par de bandidos se entrelaçam em quatro histórias de violência e redenção.'},\n",
        "          '9. O Senhor dos Anéis: A Sociedade do Anel':{'Ano': '2001', 'Sinopse':'Um manso hobbit do Condado e oito companheiros partem em uma jornada para destruir o poderoso Um Anel e salvar a Terra-média das Trevas.'},\n",
        "          '10. Três Homens em Conflito':{'Ano': '1966', 'Sinopse':'Um impostor se junta com dois homens para encontrar fortuna num remoto cemitério.'}}\n",
        "print(filmes)\n",
        "print(filmes['6. A Lista de Schindler']['Ano'])\n",
        "print(filmes['8. Pulp Fiction: Tempo de Violência']['Sinopse'])"
      ],
      "metadata": {
        "colab": {
          "base_uri": "https://localhost:8080/"
        },
        "id": "fO-J-YpKJmUW",
        "outputId": "07d056fa-911b-494d-ba0a-384ff039d459"
      },
      "execution_count": 35,
      "outputs": [
        {
          "output_type": "stream",
          "name": "stdout",
          "text": [
            "{'1. Um Sonho de Liberdade': {'Ano': '1994', 'Sinopse': 'Dois homens presos se reúnem ao longo de vários anos, encontrando consolo e eventual redenção através de atos de decência comum.'}, '2. O Poderoso Chefão': {'Ano': '1972', 'Sinopse': 'O patriarca idoso de uma dinastia do crime organizado transfere o controle de seu império clandestino para seu filho relutante.'}, '3. Batman: O Cavaleiro das Trevas': {'Ano': '2008', 'Sinopse': 'Quando a ameaça conhecida como O Coringa surge de seu passado, causa estragos e caos nas pessoas de Gotham. O Cavaleiro das Trevas deve aceitar um dos maiores testes para combater a injustiça.'}, '4. O Poderoso Chefão II': {'Ano': '1974', 'Sinopse': 'Em 1950, Michael Corleone, agora à frente da família, tenta expandir o negócio do crime a Las Vegas, Los Angeles e Cuba. Paralelamente, é revelada a história de Vito Corleone, e de como saiu da Sicília e chegou a Nova Iorque.'}, '5. 12 Homens e uma Sentença': {'Ano': '1957', 'Sinopse': 'Um jurado que se aposenta tenta evitar um erro judicial forçando seus colegas a reconsiderarem as evidências.'}, '6. A Lista de Schindler': {'Ano': '1993', 'Sinopse': 'Depois de testemunhar a perseguição dos judaicos na Polônia ocupada pelos alemães durante a Segunda Guerra Mundial, o industrial Oskar Schindler se começa a preocupar com sua força de trabalho judaica.'}, '7. O Senhor dos Anéis, O Retorno do Rei': {'Ano': '2003', 'Sinopse': 'Gandalf e Aragorn lideram o Mundo dos Homens contra o exército de Sauron para desviar o olhar de Frodo e Sam quando eles se aproximam á Montanha da Perdição com o Um Anel.'}, '8. Pulp Fiction: Tempo de Violência': {'Ano': '1994', 'Sinopse': 'As vidas de dois assassinos da máfia, um boxeador, um gângster e sua esposa, e um par de bandidos se entrelaçam em quatro histórias de violência e redenção.'}, '9. O Senhor dos Anéis: A Sociedade do Anel': {'Ano': '2001', 'Sinopse': 'Um manso hobbit do Condado e oito companheiros partem em uma jornada para destruir o poderoso Um Anel e salvar a Terra-média das Trevas.'}, '10. Três Homens em Conflito': {'Ano': '1966', 'Sinopse': 'Um impostor se junta com dois homens para encontrar fortuna num remoto cemitério.'}}\n",
            "1993\n",
            "As vidas de dois assassinos da máfia, um boxeador, um gângster e sua esposa, e um par de bandidos se entrelaçam em quatro histórias de violência e redenção.\n"
          ]
        }
      ]
    }
  ]
}